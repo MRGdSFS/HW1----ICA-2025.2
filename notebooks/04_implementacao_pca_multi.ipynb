{
 "cells": [
  {
   "cell_type": "markdown",
   "id": "06568c06",
   "metadata": {},
   "source": [
    "# Implementação PCA e Análise Multivariada"
   ]
  },
  {
   "cell_type": "markdown",
   "id": "37463786",
   "metadata": {},
   "source": [
    "## Preparação"
   ]
  },
  {
   "cell_type": "markdown",
   "id": "5b0877bc",
   "metadata": {},
   "source": [
    "### Carregamento das Bibliotecas"
   ]
  },
  {
   "cell_type": "code",
   "execution_count": 1,
   "id": "977cd72f",
   "metadata": {},
   "outputs": [],
   "source": [
    "import sys\n",
    "import os\n",
    "import pandas as pd\n",
    "import numpy as np\n",
    "import matplotlib.pyplot as plt"
   ]
  },
  {
   "cell_type": "markdown",
   "id": "ee40462e",
   "metadata": {},
   "source": [
    "### Carregamentos dos Dados"
   ]
  },
  {
   "cell_type": "code",
   "execution_count": 2,
   "id": "9999697d",
   "metadata": {},
   "outputs": [],
   "source": [
    "df = pd.read_csv(\"../dados/student_habits_performance.csv\")\n"
   ]
  },
  {
   "cell_type": "markdown",
   "id": "7da38192",
   "metadata": {},
   "source": [
    "## Pré-PCA"
   ]
  },
  {
   "cell_type": "markdown",
   "id": "ecfda0da",
   "metadata": {},
   "source": [
    "### Variáveis Dummy"
   ]
  },
  {
   "cell_type": "markdown",
   "id": "c03e8336",
   "metadata": {},
   "source": [
    "Precisamos transformar nossas variáveis categóricas, que observamos anteriormente no pré-processamento, para que seja possível aplicar a Análise de Componente Principal."
   ]
  },
  {
   "cell_type": "code",
   "execution_count": null,
   "id": "906ffc72",
   "metadata": {},
   "outputs": [
    {
     "name": "stdout",
     "output_type": "stream",
     "text": [
      "Index(['student_id', 'age', 'gender', 'study_hours_per_day',\n",
      "       'social_media_hours', 'netflix_hours', 'part_time_job',\n",
      "       'attendance_percentage', 'sleep_hours', 'diet_quality',\n",
      "       'exercise_frequency', 'parental_education_level', 'internet_quality',\n",
      "       'mental_health_rating', 'extracurricular_participation', 'exam_score'],\n",
      "      dtype='object')\n"
     ]
    }
   ],
   "source": [
    "#Todas as Colunas presentes no dataframe\n",
    "print(df.columns)"
   ]
  },
  {
   "cell_type": "code",
   "execution_count": null,
   "id": "07ea58f8",
   "metadata": {},
   "outputs": [
    {
     "name": "stdout",
     "output_type": "stream",
     "text": [
      "  student_id  age  gender  study_hours_per_day  social_media_hours  \\\n",
      "0      S1000   23  Female                  0.0                 1.2   \n",
      "1      S1001   20  Female                  6.9                 2.8   \n",
      "2      S1002   21    Male                  1.4                 3.1   \n",
      "3      S1003   23  Female                  1.0                 3.9   \n",
      "4      S1004   19  Female                  5.0                 4.4   \n",
      "\n",
      "   netflix_hours part_time_job  attendance_percentage  sleep_hours  \\\n",
      "0            1.1            No                   85.0          8.0   \n",
      "1            2.3            No                   97.3          4.6   \n",
      "2            1.3            No                   94.8          8.0   \n",
      "3            1.0            No                   71.0          9.2   \n",
      "4            0.5            No                   90.9          4.9   \n",
      "\n",
      "  diet_quality  exercise_frequency parental_education_level internet_quality  \\\n",
      "0         Fair                   6                   Master          Average   \n",
      "1         Good                   6              High School          Average   \n",
      "2         Poor                   1              High School             Poor   \n",
      "3         Poor                   4                   Master             Good   \n",
      "4         Fair                   3                   Master             Good   \n",
      "\n",
      "   mental_health_rating extracurricular_participation  exam_score  \n",
      "0                     8                           Yes        56.2  \n",
      "1                     8                            No       100.0  \n",
      "2                     1                            No        34.3  \n",
      "3                     1                           Yes        26.8  \n",
      "4                     1                            No        66.4  \n"
     ]
    }
   ],
   "source": [
    "#Visualização dos primeiros elementos do dataframe\n",
    "print(df.head())"
   ]
  },
  {
   "cell_type": "markdown",
   "id": "dfb7b0c4",
   "metadata": {},
   "source": [
    "Agrupamos as variáveis categóricas numa lista para aplicar a função get_dummies do pandas, que tem como objetivo criar as variáveis dummy, substituindo os valores categóricos. Também garantimos que os valores substituídos sejam numéricos ao usar dtype = int"
   ]
  },
  {
   "cell_type": "code",
   "execution_count": 10,
   "id": "54d71183",
   "metadata": {},
   "outputs": [],
   "source": [
    "#o id do estudante é desconsiderado, já que não nos entrega informações relevantes\n",
    "colunas_categoricas = [\n",
    "    \"gender\",\n",
    "    \"part_time_job\",\n",
    "    \"diet_quality\",\n",
    "    \"parental_education_level\",\n",
    "    \"internet_quality\",\n",
    "    \"extracurricular_participation\"\n",
    "]\n"
   ]
  },
  {
   "cell_type": "code",
   "execution_count": 11,
   "id": "5468b610",
   "metadata": {},
   "outputs": [
    {
     "name": "stdout",
     "output_type": "stream",
     "text": [
      "   gender_Female  gender_Male  gender_Other  part_time_job_No  \\\n",
      "0              1            0             0                 1   \n",
      "1              1            0             0                 1   \n",
      "2              0            1             0                 1   \n",
      "3              1            0             0                 1   \n",
      "4              1            0             0                 1   \n",
      "\n",
      "   part_time_job_Yes  diet_quality_Fair  diet_quality_Good  diet_quality_Poor  \\\n",
      "0                  0                  1                  0                  0   \n",
      "1                  0                  0                  1                  0   \n",
      "2                  0                  0                  0                  1   \n",
      "3                  0                  0                  0                  1   \n",
      "4                  0                  1                  0                  0   \n",
      "\n",
      "   parental_education_level_Bachelor  parental_education_level_High School  \\\n",
      "0                                  0                                     0   \n",
      "1                                  0                                     1   \n",
      "2                                  0                                     1   \n",
      "3                                  0                                     0   \n",
      "4                                  0                                     0   \n",
      "\n",
      "   parental_education_level_Master  internet_quality_Average  \\\n",
      "0                                1                         1   \n",
      "1                                0                         1   \n",
      "2                                0                         0   \n",
      "3                                1                         0   \n",
      "4                                1                         0   \n",
      "\n",
      "   internet_quality_Good  internet_quality_Poor  \\\n",
      "0                      0                      0   \n",
      "1                      0                      0   \n",
      "2                      0                      1   \n",
      "3                      1                      0   \n",
      "4                      1                      0   \n",
      "\n",
      "   extracurricular_participation_No  extracurricular_participation_Yes  \n",
      "0                                 0                                  1  \n",
      "1                                 1                                  0  \n",
      "2                                 1                                  0  \n",
      "3                                 0                                  1  \n",
      "4                                 1                                  0  \n"
     ]
    }
   ],
   "source": [
    "df_dummy = pd.get_dummies(df[colunas_categoricas], drop_first= False, dtype = int)\n",
    "print(df_dummy.head())"
   ]
  },
  {
   "cell_type": "markdown",
   "id": "f1f3ae5b",
   "metadata": {},
   "source": [
    "Com os valores substituídos por 0s e 1s em variáveis mais específicas, juntamos os valores numéricos e categóricos novamente ao dataframe."
   ]
  },
  {
   "cell_type": "code",
   "execution_count": 13,
   "id": "e22eeab2",
   "metadata": {},
   "outputs": [],
   "source": [
    "colunas_numericas = [\n",
    "    \"age\",\n",
    "    \"study_hours_per_day\",\n",
    "    \"social_media_hours\",\n",
    "    \"netflix_hours\",\n",
    "    \"attendance_percentage\",\n",
    "    \"sleep_hours\",\n",
    "    \"exercise_frequency\",\n",
    "    \"mental_health_rating\",\n",
    "    \"exam_score\"\n",
    "]"
   ]
  },
  {
   "cell_type": "code",
   "execution_count": 16,
   "id": "2d26eb77",
   "metadata": {},
   "outputs": [
    {
     "name": "stdout",
     "output_type": "stream",
     "text": [
      "   age  study_hours_per_day  social_media_hours  netflix_hours  \\\n",
      "0   23                  0.0                 1.2            1.1   \n",
      "1   20                  6.9                 2.8            2.3   \n",
      "2   21                  1.4                 3.1            1.3   \n",
      "3   23                  1.0                 3.9            1.0   \n",
      "4   19                  5.0                 4.4            0.5   \n",
      "\n",
      "   attendance_percentage  sleep_hours  exercise_frequency  \\\n",
      "0                   85.0          8.0                   6   \n",
      "1                   97.3          4.6                   6   \n",
      "2                   94.8          8.0                   1   \n",
      "3                   71.0          9.2                   4   \n",
      "4                   90.9          4.9                   3   \n",
      "\n",
      "   mental_health_rating  exam_score  gender_Female  ...  diet_quality_Good  \\\n",
      "0                     8        56.2              1  ...                  0   \n",
      "1                     8       100.0              1  ...                  1   \n",
      "2                     1        34.3              0  ...                  0   \n",
      "3                     1        26.8              1  ...                  0   \n",
      "4                     1        66.4              1  ...                  0   \n",
      "\n",
      "   diet_quality_Poor  parental_education_level_Bachelor  \\\n",
      "0                  0                                  0   \n",
      "1                  0                                  0   \n",
      "2                  1                                  0   \n",
      "3                  1                                  0   \n",
      "4                  0                                  0   \n",
      "\n",
      "   parental_education_level_High School  parental_education_level_Master  \\\n",
      "0                                     0                                1   \n",
      "1                                     1                                0   \n",
      "2                                     1                                0   \n",
      "3                                     0                                1   \n",
      "4                                     0                                1   \n",
      "\n",
      "   internet_quality_Average  internet_quality_Good  internet_quality_Poor  \\\n",
      "0                         1                      0                      0   \n",
      "1                         1                      0                      0   \n",
      "2                         0                      0                      1   \n",
      "3                         0                      1                      0   \n",
      "4                         0                      1                      0   \n",
      "\n",
      "   extracurricular_participation_No  extracurricular_participation_Yes  \n",
      "0                                 0                                  1  \n",
      "1                                 1                                  0  \n",
      "2                                 1                                  0  \n",
      "3                                 0                                  1  \n",
      "4                                 1                                  0  \n",
      "\n",
      "[5 rows x 25 columns]\n"
     ]
    }
   ],
   "source": [
    "df_final = pd.concat([df[colunas_numericas], df_dummy], axis = 1) # axis = 1 para agrupar por coluna\n",
    "print(df_final.head())"
   ]
  }
 ],
 "metadata": {
  "kernelspec": {
   "display_name": "Python 3",
   "language": "python",
   "name": "python3"
  },
  "language_info": {
   "codemirror_mode": {
    "name": "ipython",
    "version": 3
   },
   "file_extension": ".py",
   "mimetype": "text/x-python",
   "name": "python",
   "nbconvert_exporter": "python",
   "pygments_lexer": "ipython3",
   "version": "3.13.9"
  }
 },
 "nbformat": 4,
 "nbformat_minor": 5
}
