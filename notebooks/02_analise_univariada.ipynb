{
 "cells": [
  {
   "cell_type": "markdown",
   "id": "63823ba1",
   "metadata": {},
   "source": [
    "# Análise Univariada - Student Habits vs Academic Performance"
   ]
  },
  {
   "cell_type": "markdown",
   "id": "d935a6e7",
   "metadata": {},
   "source": [
    "# Importação das bibliotecas e funções"
   ]
  },
  {
   "cell_type": "code",
   "execution_count": 44,
   "id": "66c63ee6",
   "metadata": {},
   "outputs": [],
   "source": [
    "import sys\n",
    "import os\n",
    "import pandas as pd\n",
    "import numpy as np\n",
    "import matplotlib.pyplot as plt\n",
    "\n",
    "sys.path.append(os.path.join(os.getcwd(), '..'))\n",
    "# importamos as funções feitas em python da análise univariada\n",
    "from src.funcoes_analise_uni import *"
   ]
  },
  {
   "cell_type": "markdown",
   "id": "4f3cdc0d",
   "metadata": {},
   "source": [
    "# Introdução\n",
    "\n",
    "Neste notebook, realizamos a análise univariada (tanto a incondicional e a condicionada por classe) do dataset\n",
    "'Student Habits vs Academic Performance' presente no site kaggle.com.\n",
    "Nosso objetivo é entender o comportamento das variáveis categóricas e numéricas estando elas condicionadas ou não ao nosso target, que é a perfomance do estudante, dada pela coluna exam\\_score (nosso rótulo), que foi discretizada em 4 categorias sendo elas:\n",
    "• Reprovado: exam_score < 40\n",
    "• Recuperação: 40 ≤ exam_score < 70\n",
    "• Bom: 70 ≤ exam_score < 90\n",
    "• Excelente: exam_score ≥ 90\n",
    "\n",
    "Temos que a essência das análises univariadas é buscar entender como os valores dessas variáveis se distribuem, por meio de medidas e gráficos. Portanto, para os fins desse trabalho serão analisada as:\n",
    "- Variáveis numéricas: média, desvio padrão e assimetria.\n",
    "- Variáveis categóricas: distribuição de frequências.\n",
    "- Variáveis condicionadas por classe.\n"
   ]
  },
  {
   "cell_type": "markdown",
   "id": "9b483f4c",
   "metadata": {},
   "source": [
    "# Carregar e visualizar os dados"
   ]
  },
  {
   "cell_type": "code",
   "execution_count": 45,
   "id": "02628083",
   "metadata": {},
   "outputs": [
    {
     "data": {
      "text/html": [
       "<div>\n",
       "<style scoped>\n",
       "    .dataframe tbody tr th:only-of-type {\n",
       "        vertical-align: middle;\n",
       "    }\n",
       "\n",
       "    .dataframe tbody tr th {\n",
       "        vertical-align: top;\n",
       "    }\n",
       "\n",
       "    .dataframe thead th {\n",
       "        text-align: right;\n",
       "    }\n",
       "</style>\n",
       "<table border=\"1\" class=\"dataframe\">\n",
       "  <thead>\n",
       "    <tr style=\"text-align: right;\">\n",
       "      <th></th>\n",
       "      <th>student_id</th>\n",
       "      <th>age</th>\n",
       "      <th>gender</th>\n",
       "      <th>study_hours_per_day</th>\n",
       "      <th>social_media_hours</th>\n",
       "      <th>netflix_hours</th>\n",
       "      <th>part_time_job</th>\n",
       "      <th>attendance_percentage</th>\n",
       "      <th>sleep_hours</th>\n",
       "      <th>diet_quality</th>\n",
       "      <th>exercise_frequency</th>\n",
       "      <th>parental_education_level</th>\n",
       "      <th>internet_quality</th>\n",
       "      <th>mental_health_rating</th>\n",
       "      <th>extracurricular_participation</th>\n",
       "      <th>exam_score</th>\n",
       "    </tr>\n",
       "  </thead>\n",
       "  <tbody>\n",
       "    <tr>\n",
       "      <th>0</th>\n",
       "      <td>S1000</td>\n",
       "      <td>23</td>\n",
       "      <td>Female</td>\n",
       "      <td>0.0</td>\n",
       "      <td>1.2</td>\n",
       "      <td>1.1</td>\n",
       "      <td>No</td>\n",
       "      <td>85.0</td>\n",
       "      <td>8.0</td>\n",
       "      <td>Fair</td>\n",
       "      <td>6</td>\n",
       "      <td>Master</td>\n",
       "      <td>Average</td>\n",
       "      <td>8</td>\n",
       "      <td>Yes</td>\n",
       "      <td>56.2</td>\n",
       "    </tr>\n",
       "    <tr>\n",
       "      <th>1</th>\n",
       "      <td>S1001</td>\n",
       "      <td>20</td>\n",
       "      <td>Female</td>\n",
       "      <td>6.9</td>\n",
       "      <td>2.8</td>\n",
       "      <td>2.3</td>\n",
       "      <td>No</td>\n",
       "      <td>97.3</td>\n",
       "      <td>4.6</td>\n",
       "      <td>Good</td>\n",
       "      <td>6</td>\n",
       "      <td>High School</td>\n",
       "      <td>Average</td>\n",
       "      <td>8</td>\n",
       "      <td>No</td>\n",
       "      <td>100.0</td>\n",
       "    </tr>\n",
       "    <tr>\n",
       "      <th>2</th>\n",
       "      <td>S1002</td>\n",
       "      <td>21</td>\n",
       "      <td>Male</td>\n",
       "      <td>1.4</td>\n",
       "      <td>3.1</td>\n",
       "      <td>1.3</td>\n",
       "      <td>No</td>\n",
       "      <td>94.8</td>\n",
       "      <td>8.0</td>\n",
       "      <td>Poor</td>\n",
       "      <td>1</td>\n",
       "      <td>High School</td>\n",
       "      <td>Poor</td>\n",
       "      <td>1</td>\n",
       "      <td>No</td>\n",
       "      <td>34.3</td>\n",
       "    </tr>\n",
       "    <tr>\n",
       "      <th>3</th>\n",
       "      <td>S1003</td>\n",
       "      <td>23</td>\n",
       "      <td>Female</td>\n",
       "      <td>1.0</td>\n",
       "      <td>3.9</td>\n",
       "      <td>1.0</td>\n",
       "      <td>No</td>\n",
       "      <td>71.0</td>\n",
       "      <td>9.2</td>\n",
       "      <td>Poor</td>\n",
       "      <td>4</td>\n",
       "      <td>Master</td>\n",
       "      <td>Good</td>\n",
       "      <td>1</td>\n",
       "      <td>Yes</td>\n",
       "      <td>26.8</td>\n",
       "    </tr>\n",
       "    <tr>\n",
       "      <th>4</th>\n",
       "      <td>S1004</td>\n",
       "      <td>19</td>\n",
       "      <td>Female</td>\n",
       "      <td>5.0</td>\n",
       "      <td>4.4</td>\n",
       "      <td>0.5</td>\n",
       "      <td>No</td>\n",
       "      <td>90.9</td>\n",
       "      <td>4.9</td>\n",
       "      <td>Fair</td>\n",
       "      <td>3</td>\n",
       "      <td>Master</td>\n",
       "      <td>Good</td>\n",
       "      <td>1</td>\n",
       "      <td>No</td>\n",
       "      <td>66.4</td>\n",
       "    </tr>\n",
       "  </tbody>\n",
       "</table>\n",
       "</div>"
      ],
      "text/plain": [
       "  student_id  age  gender  study_hours_per_day  social_media_hours  \\\n",
       "0      S1000   23  Female                  0.0                 1.2   \n",
       "1      S1001   20  Female                  6.9                 2.8   \n",
       "2      S1002   21    Male                  1.4                 3.1   \n",
       "3      S1003   23  Female                  1.0                 3.9   \n",
       "4      S1004   19  Female                  5.0                 4.4   \n",
       "\n",
       "   netflix_hours part_time_job  attendance_percentage  sleep_hours  \\\n",
       "0            1.1            No                   85.0          8.0   \n",
       "1            2.3            No                   97.3          4.6   \n",
       "2            1.3            No                   94.8          8.0   \n",
       "3            1.0            No                   71.0          9.2   \n",
       "4            0.5            No                   90.9          4.9   \n",
       "\n",
       "  diet_quality  exercise_frequency parental_education_level internet_quality  \\\n",
       "0         Fair                   6                   Master          Average   \n",
       "1         Good                   6              High School          Average   \n",
       "2         Poor                   1              High School             Poor   \n",
       "3         Poor                   4                   Master             Good   \n",
       "4         Fair                   3                   Master             Good   \n",
       "\n",
       "   mental_health_rating extracurricular_participation  exam_score  \n",
       "0                     8                           Yes        56.2  \n",
       "1                     8                            No       100.0  \n",
       "2                     1                            No        34.3  \n",
       "3                     1                           Yes        26.8  \n",
       "4                     1                            No        66.4  "
      ]
     },
     "execution_count": 45,
     "metadata": {},
     "output_type": "execute_result"
    }
   ],
   "source": [
    "#não esqueça de trocar isso para o local do arquivo no seu computador, este é o do meu:\n",
    "caminho_csv = \"/home/natan/Área de trabalho/HW1-ICA/dados/student_habits_performance.csv\"\n",
    "\n",
    "# carregar o dataset com a função que fizemos\n",
    "df = carregar_dados(caminho_csv)\n",
    "\n",
    "# visualizar primeiras linhas, padrão em projetos de análise de dados\n",
    "df.head()"
   ]
  },
  {
   "cell_type": "markdown",
   "id": "53461610",
   "metadata": {},
   "source": [
    "# Informações gerais do dataset"
   ]
  },
  {
   "cell_type": "code",
   "execution_count": 46,
   "id": "804b74bc",
   "metadata": {},
   "outputs": [
    {
     "name": "stdout",
     "output_type": "stream",
     "text": [
      "Informações gerais:\n",
      "--------------------------------------------------\n",
      "Número de observações: 1000\n",
      "Número de variáveis: 16\n",
      "\n",
      "Tipos de dados:\n",
      "student_id                        object\n",
      "age                                int64\n",
      "gender                            object\n",
      "study_hours_per_day              float64\n",
      "social_media_hours               float64\n",
      "netflix_hours                    float64\n",
      "part_time_job                     object\n",
      "attendance_percentage            float64\n",
      "sleep_hours                      float64\n",
      "diet_quality                      object\n",
      "exercise_frequency                 int64\n",
      "parental_education_level          object\n",
      "internet_quality                  object\n",
      "mental_health_rating               int64\n",
      "extracurricular_participation     object\n",
      "exam_score                       float64\n",
      "dtype: object\n",
      "\n",
      "Estatísticas descritivas (resumo geral):\n"
     ]
    },
    {
     "data": {
      "text/html": [
       "<div>\n",
       "<style scoped>\n",
       "    .dataframe tbody tr th:only-of-type {\n",
       "        vertical-align: middle;\n",
       "    }\n",
       "\n",
       "    .dataframe tbody tr th {\n",
       "        vertical-align: top;\n",
       "    }\n",
       "\n",
       "    .dataframe thead th {\n",
       "        text-align: right;\n",
       "    }\n",
       "</style>\n",
       "<table border=\"1\" class=\"dataframe\">\n",
       "  <thead>\n",
       "    <tr style=\"text-align: right;\">\n",
       "      <th></th>\n",
       "      <th>age</th>\n",
       "      <th>study_hours_per_day</th>\n",
       "      <th>social_media_hours</th>\n",
       "      <th>netflix_hours</th>\n",
       "      <th>attendance_percentage</th>\n",
       "      <th>sleep_hours</th>\n",
       "      <th>exercise_frequency</th>\n",
       "      <th>mental_health_rating</th>\n",
       "      <th>exam_score</th>\n",
       "    </tr>\n",
       "  </thead>\n",
       "  <tbody>\n",
       "    <tr>\n",
       "      <th>count</th>\n",
       "      <td>1000.0000</td>\n",
       "      <td>1000.00000</td>\n",
       "      <td>1000.000000</td>\n",
       "      <td>1000.000000</td>\n",
       "      <td>1000.000000</td>\n",
       "      <td>1000.000000</td>\n",
       "      <td>1000.000000</td>\n",
       "      <td>1000.000000</td>\n",
       "      <td>1000.000000</td>\n",
       "    </tr>\n",
       "    <tr>\n",
       "      <th>mean</th>\n",
       "      <td>20.4980</td>\n",
       "      <td>3.55010</td>\n",
       "      <td>2.505500</td>\n",
       "      <td>1.819700</td>\n",
       "      <td>84.131700</td>\n",
       "      <td>6.470100</td>\n",
       "      <td>3.042000</td>\n",
       "      <td>5.438000</td>\n",
       "      <td>69.601500</td>\n",
       "    </tr>\n",
       "    <tr>\n",
       "      <th>std</th>\n",
       "      <td>2.3081</td>\n",
       "      <td>1.46889</td>\n",
       "      <td>1.172422</td>\n",
       "      <td>1.075118</td>\n",
       "      <td>9.399246</td>\n",
       "      <td>1.226377</td>\n",
       "      <td>2.025423</td>\n",
       "      <td>2.847501</td>\n",
       "      <td>16.888564</td>\n",
       "    </tr>\n",
       "    <tr>\n",
       "      <th>min</th>\n",
       "      <td>17.0000</td>\n",
       "      <td>0.00000</td>\n",
       "      <td>0.000000</td>\n",
       "      <td>0.000000</td>\n",
       "      <td>56.000000</td>\n",
       "      <td>3.200000</td>\n",
       "      <td>0.000000</td>\n",
       "      <td>1.000000</td>\n",
       "      <td>18.400000</td>\n",
       "    </tr>\n",
       "    <tr>\n",
       "      <th>25%</th>\n",
       "      <td>18.7500</td>\n",
       "      <td>2.60000</td>\n",
       "      <td>1.700000</td>\n",
       "      <td>1.000000</td>\n",
       "      <td>78.000000</td>\n",
       "      <td>5.600000</td>\n",
       "      <td>1.000000</td>\n",
       "      <td>3.000000</td>\n",
       "      <td>58.475000</td>\n",
       "    </tr>\n",
       "    <tr>\n",
       "      <th>50%</th>\n",
       "      <td>20.0000</td>\n",
       "      <td>3.50000</td>\n",
       "      <td>2.500000</td>\n",
       "      <td>1.800000</td>\n",
       "      <td>84.400000</td>\n",
       "      <td>6.500000</td>\n",
       "      <td>3.000000</td>\n",
       "      <td>5.000000</td>\n",
       "      <td>70.500000</td>\n",
       "    </tr>\n",
       "    <tr>\n",
       "      <th>75%</th>\n",
       "      <td>23.0000</td>\n",
       "      <td>4.50000</td>\n",
       "      <td>3.300000</td>\n",
       "      <td>2.525000</td>\n",
       "      <td>91.025000</td>\n",
       "      <td>7.300000</td>\n",
       "      <td>5.000000</td>\n",
       "      <td>8.000000</td>\n",
       "      <td>81.325000</td>\n",
       "    </tr>\n",
       "    <tr>\n",
       "      <th>max</th>\n",
       "      <td>24.0000</td>\n",
       "      <td>8.30000</td>\n",
       "      <td>7.200000</td>\n",
       "      <td>5.400000</td>\n",
       "      <td>100.000000</td>\n",
       "      <td>10.000000</td>\n",
       "      <td>6.000000</td>\n",
       "      <td>10.000000</td>\n",
       "      <td>100.000000</td>\n",
       "    </tr>\n",
       "  </tbody>\n",
       "</table>\n",
       "</div>"
      ],
      "text/plain": [
       "             age  study_hours_per_day  social_media_hours  netflix_hours  \\\n",
       "count  1000.0000           1000.00000         1000.000000    1000.000000   \n",
       "mean     20.4980              3.55010            2.505500       1.819700   \n",
       "std       2.3081              1.46889            1.172422       1.075118   \n",
       "min      17.0000              0.00000            0.000000       0.000000   \n",
       "25%      18.7500              2.60000            1.700000       1.000000   \n",
       "50%      20.0000              3.50000            2.500000       1.800000   \n",
       "75%      23.0000              4.50000            3.300000       2.525000   \n",
       "max      24.0000              8.30000            7.200000       5.400000   \n",
       "\n",
       "       attendance_percentage  sleep_hours  exercise_frequency  \\\n",
       "count            1000.000000  1000.000000         1000.000000   \n",
       "mean               84.131700     6.470100            3.042000   \n",
       "std                 9.399246     1.226377            2.025423   \n",
       "min                56.000000     3.200000            0.000000   \n",
       "25%                78.000000     5.600000            1.000000   \n",
       "50%                84.400000     6.500000            3.000000   \n",
       "75%                91.025000     7.300000            5.000000   \n",
       "max               100.000000    10.000000            6.000000   \n",
       "\n",
       "       mental_health_rating   exam_score  \n",
       "count           1000.000000  1000.000000  \n",
       "mean               5.438000    69.601500  \n",
       "std                2.847501    16.888564  \n",
       "min                1.000000    18.400000  \n",
       "25%                3.000000    58.475000  \n",
       "50%                5.000000    70.500000  \n",
       "75%                8.000000    81.325000  \n",
       "max               10.000000   100.000000  "
      ]
     },
     "metadata": {},
     "output_type": "display_data"
    }
   ],
   "source": [
    "print(\"Informações gerais:\")\n",
    "print(\"-\" * 50)\n",
    "print(f\"Número de observações: {df.shape[0]}\")\n",
    "print(f\"Número de variáveis: {df.shape[1]}\")\n",
    "print(\"\\nTipos de dados:\")\n",
    "print(df.dtypes)\n",
    "\n",
    "print(\"\\nEstatísticas descritivas (resumo geral):\")\n",
    "display(df.describe())"
   ]
  },
  {
   "cell_type": "markdown",
   "id": "62ab7f82",
   "metadata": {},
   "source": [
    "# Análise univariada incondicional"
   ]
  },
  {
   "cell_type": "markdown",
   "id": "9a67756a",
   "metadata": {},
   "source": [
    "Aqui vamos analisar todas as variáveis numéricas sem considerar a classe,\n",
    "calculando estatísticas que descrevem nosso banco e gerando histogramas e boxplots."
   ]
  },
  {
   "cell_type": "code",
   "execution_count": 55,
   "id": "55c7b6a6",
   "metadata": {},
   "outputs": [
    {
     "data": {
      "text/html": [
       "<div>\n",
       "<style scoped>\n",
       "    .dataframe tbody tr th:only-of-type {\n",
       "        vertical-align: middle;\n",
       "    }\n",
       "\n",
       "    .dataframe tbody tr th {\n",
       "        vertical-align: top;\n",
       "    }\n",
       "\n",
       "    .dataframe thead th {\n",
       "        text-align: right;\n",
       "    }\n",
       "</style>\n",
       "<table border=\"1\" class=\"dataframe\">\n",
       "  <thead>\n",
       "    <tr style=\"text-align: right;\">\n",
       "      <th></th>\n",
       "      <th>media</th>\n",
       "      <th>desvio_padrao</th>\n",
       "      <th>assimetria</th>\n",
       "    </tr>\n",
       "  </thead>\n",
       "  <tbody>\n",
       "    <tr>\n",
       "      <th>age</th>\n",
       "      <td>20.4980</td>\n",
       "      <td>2.308100</td>\n",
       "      <td>0.008424</td>\n",
       "    </tr>\n",
       "    <tr>\n",
       "      <th>study_hours_per_day</th>\n",
       "      <td>3.5501</td>\n",
       "      <td>1.468890</td>\n",
       "      <td>0.054172</td>\n",
       "    </tr>\n",
       "    <tr>\n",
       "      <th>social_media_hours</th>\n",
       "      <td>2.5055</td>\n",
       "      <td>1.172422</td>\n",
       "      <td>0.119625</td>\n",
       "    </tr>\n",
       "    <tr>\n",
       "      <th>netflix_hours</th>\n",
       "      <td>1.8197</td>\n",
       "      <td>1.075118</td>\n",
       "      <td>0.236799</td>\n",
       "    </tr>\n",
       "    <tr>\n",
       "      <th>attendance_percentage</th>\n",
       "      <td>84.1317</td>\n",
       "      <td>9.399246</td>\n",
       "      <td>-0.237454</td>\n",
       "    </tr>\n",
       "    <tr>\n",
       "      <th>sleep_hours</th>\n",
       "      <td>6.4701</td>\n",
       "      <td>1.226377</td>\n",
       "      <td>0.091347</td>\n",
       "    </tr>\n",
       "    <tr>\n",
       "      <th>exercise_frequency</th>\n",
       "      <td>3.0420</td>\n",
       "      <td>2.025423</td>\n",
       "      <td>-0.031875</td>\n",
       "    </tr>\n",
       "    <tr>\n",
       "      <th>mental_health_rating</th>\n",
       "      <td>5.4380</td>\n",
       "      <td>2.847501</td>\n",
       "      <td>0.037754</td>\n",
       "    </tr>\n",
       "    <tr>\n",
       "      <th>exam_score</th>\n",
       "      <td>69.6015</td>\n",
       "      <td>16.888564</td>\n",
       "      <td>-0.156116</td>\n",
       "    </tr>\n",
       "  </tbody>\n",
       "</table>\n",
       "</div>"
      ],
      "text/plain": [
       "                         media  desvio_padrao  assimetria\n",
       "age                    20.4980       2.308100    0.008424\n",
       "study_hours_per_day     3.5501       1.468890    0.054172\n",
       "social_media_hours      2.5055       1.172422    0.119625\n",
       "netflix_hours           1.8197       1.075118    0.236799\n",
       "attendance_percentage  84.1317       9.399246   -0.237454\n",
       "sleep_hours             6.4701       1.226377    0.091347\n",
       "exercise_frequency      3.0420       2.025423   -0.031875\n",
       "mental_health_rating    5.4380       2.847501    0.037754\n",
       "exam_score             69.6015      16.888564   -0.156116"
      ]
     },
     "metadata": {},
     "output_type": "display_data"
    },
    {
     "name": "stdout",
     "output_type": "stream",
     "text": [
      "Gerando histogramas e boxplots das variáveis numéricas...\n",
      "Gráficos numéricos salvos em 'resultados/figuras'\n"
     ]
    }
   ],
   "source": [
    "#está na estrutura do github e armazena tanto as figuras produzidas nas funções univariadas quanto as tabelas, e pra isso precisamos garantir as pastas\n",
    "garantir_pastas()\n",
    "\n",
    "#estatísticas das variáveis numéricas\n",
    "sumario_univariado = estatisticas(df)\n",
    "display(sumario_univariado)\n",
    "\n",
    "# salvar tabela\n",
    "sumario_univariado.to_csv(\"resultados/tables/sumario_univariado.csv\")\n",
    "\n",
    "# plotar gráficos\n",
    "print(\"Gerando histogramas e boxplots das variáveis numéricas...\")\n",
    "plotar_histogramas(df)\n",
    "plotar_boxplots(df)\n",
    "print(\"Gráficos numéricos salvos em 'resultados/figuras'\")\n"
   ]
  },
  {
   "cell_type": "markdown",
   "id": "4d869052",
   "metadata": {},
   "source": [
    "# Análise univariada incondicional de variáveis categóricas"
   ]
  },
  {
   "cell_type": "markdown",
   "id": "fe46bb65",
   "metadata": {},
   "source": [
    "Para variáveis não numéricas (categóricas), a análise univariada incondicional é feita\n",
    "por meio de contagem de frequências em gráficos de barras, ou seja, para todas as variáveis categórias (com exceção de exam\\_score que foi dividida em 4 categorias para ser futuramente usada como target na análise condicionada à classe), terá uma barra de um valor único observado no dataset, se fossemos o exam\\_score sem essa divisão nós teríamos um gráfico de barras com *muitas* barras dado que as notas podem ir de 0.0 até 100.0. Logo, fazemos:"
   ]
  },
  {
   "cell_type": "code",
   "execution_count": 56,
   "id": "7d07403d",
   "metadata": {},
   "outputs": [
    {
     "name": "stdout",
     "output_type": "stream",
     "text": [
      "Gráficos categóricos salvos em 'resultados/figuras'\n"
     ]
    }
   ],
   "source": [
    "analise_categoricas(df)\n",
    "print(\"Gráficos categóricos salvos em 'resultados/figuras'\")"
   ]
  },
  {
   "cell_type": "markdown",
   "id": "69b7e70c",
   "metadata": {},
   "source": [
    "perceba que se fossemos mostrar todos os gráficos aqui no notebook teríamos *muitas* imagens, o que prejudicaria o nosso desempenho, por isso a decisão de salvar todos os gráficos em uma pasta separada. Iremos também fazer a análise deles."
   ]
  },
  {
   "cell_type": "code",
   "execution_count": 57,
   "id": "5ea44ef0",
   "metadata": {},
   "outputs": [
    {
     "name": "stdout",
     "output_type": "stream",
     "text": [
      "Index(['student_id', 'age', 'gender', 'study_hours_per_day',\n",
      "       'social_media_hours', 'netflix_hours', 'part_time_job',\n",
      "       'attendance_percentage', 'sleep_hours', 'diet_quality',\n",
      "       'exercise_frequency', 'parental_education_level', 'internet_quality',\n",
      "       'mental_health_rating', 'extracurricular_participation', 'exam_score',\n",
      "       'Performance'],\n",
      "      dtype='object')\n"
     ]
    }
   ],
   "source": [
    "print(df.columns)\n"
   ]
  },
  {
   "cell_type": "code",
   "execution_count": 58,
   "id": "514d7f33",
   "metadata": {},
   "outputs": [
    {
     "name": "stderr",
     "output_type": "stream",
     "text": [
      "/home/natan/Área de trabalho/HW1-ICA/notebooks/../src/funcoes_analise_uni.py:139: UserWarning: Tight layout not applied. The bottom and top margins cannot be made large enough to accommodate all Axes decorations.\n",
      "  plt.tight_layout()\n"
     ]
    },
    {
     "name": "stdout",
     "output_type": "stream",
     "text": [
      "Análise univariada condicional concluída!\n"
     ]
    }
   ],
   "source": [
    "df = carregar_dados(\"/home/natan/Área de trabalho/HW1-ICA/dados/student_habits_performance.csv\")\n",
    "df = categorizar_performance(df)   # cria a coluna Performance\n",
    "sumario_condicional = analise_univariada_condicional(df, classe_col=\"Performance\")\n"
   ]
  },
  {
   "cell_type": "code",
   "execution_count": 59,
   "id": "20c68e9c",
   "metadata": {},
   "outputs": [
    {
     "name": "stdout",
     "output_type": "stream",
     "text": [
      "Index(['student_id', 'age', 'gender', 'study_hours_per_day',\n",
      "       'social_media_hours', 'netflix_hours', 'part_time_job',\n",
      "       'attendance_percentage', 'sleep_hours', 'diet_quality',\n",
      "       'exercise_frequency', 'parental_education_level', 'internet_quality',\n",
      "       'mental_health_rating', 'extracurricular_participation', 'exam_score',\n",
      "       'Performance'],\n",
      "      dtype='object')\n"
     ]
    }
   ],
   "source": [
    "print(df.columns)"
   ]
  },
  {
   "cell_type": "markdown",
   "id": "760a766f",
   "metadata": {},
   "source": [
    "# Análise univariada condicionada por classe\n",
    "Agora, vamos analisar as mesmas variáveis numéricas e categóricas, mas separadas\n",
    "de acordo com a variável de classe 'Performance' vinda do agrupamento de exam\\_score.\n",
    "Isso permite identificar diferenças entre os grupos, ou seja, poderíamos ter por exemplo um gráfico que mostrasse as horas de estudo condicionadas à categoria \"Reprovado\" e nele observaríamos um \"pico\" da frequência com uma quantidade de horas pequena. indicanto uma relação óbvia de quanto menos horas de estudo -> maior frequência na categoria de \"Reprovado\""
   ]
  },
  {
   "cell_type": "code",
   "execution_count": 60,
   "id": "4c9a834e",
   "metadata": {},
   "outputs": [
    {
     "name": "stderr",
     "output_type": "stream",
     "text": [
      "/home/natan/Área de trabalho/HW1-ICA/notebooks/../src/funcoes_analise_uni.py:139: UserWarning: Tight layout not applied. The bottom and top margins cannot be made large enough to accommodate all Axes decorations.\n",
      "  plt.tight_layout()\n"
     ]
    },
    {
     "name": "stdout",
     "output_type": "stream",
     "text": [
      "Análise univariada condicional concluída!\n"
     ]
    },
    {
     "data": {
      "text/html": [
       "<div>\n",
       "<style scoped>\n",
       "    .dataframe tbody tr th:only-of-type {\n",
       "        vertical-align: middle;\n",
       "    }\n",
       "\n",
       "    .dataframe tbody tr th {\n",
       "        vertical-align: top;\n",
       "    }\n",
       "\n",
       "    .dataframe thead th {\n",
       "        text-align: right;\n",
       "    }\n",
       "</style>\n",
       "<table border=\"1\" class=\"dataframe\">\n",
       "  <thead>\n",
       "    <tr style=\"text-align: right;\">\n",
       "      <th></th>\n",
       "      <th>media</th>\n",
       "      <th>desvio_padrao</th>\n",
       "      <th>assimetria</th>\n",
       "      <th>classe</th>\n",
       "    </tr>\n",
       "  </thead>\n",
       "  <tbody>\n",
       "    <tr>\n",
       "      <th>age</th>\n",
       "      <td>20.519016</td>\n",
       "      <td>2.311789</td>\n",
       "      <td>-0.002517</td>\n",
       "      <td>Recuperação</td>\n",
       "    </tr>\n",
       "    <tr>\n",
       "      <th>study_hours_per_day</th>\n",
       "      <td>2.737360</td>\n",
       "      <td>1.035541</td>\n",
       "      <td>-0.137888</td>\n",
       "      <td>Recuperação</td>\n",
       "    </tr>\n",
       "    <tr>\n",
       "      <th>social_media_hours</th>\n",
       "      <td>2.644743</td>\n",
       "      <td>1.172733</td>\n",
       "      <td>0.074956</td>\n",
       "      <td>Recuperação</td>\n",
       "    </tr>\n",
       "    <tr>\n",
       "      <th>netflix_hours</th>\n",
       "      <td>1.964206</td>\n",
       "      <td>1.073997</td>\n",
       "      <td>0.104877</td>\n",
       "      <td>Recuperação</td>\n",
       "    </tr>\n",
       "    <tr>\n",
       "      <th>attendance_percentage</th>\n",
       "      <td>83.164206</td>\n",
       "      <td>9.442380</td>\n",
       "      <td>-0.205007</td>\n",
       "      <td>Recuperação</td>\n",
       "    </tr>\n",
       "  </tbody>\n",
       "</table>\n",
       "</div>"
      ],
      "text/plain": [
       "                           media  desvio_padrao  assimetria       classe\n",
       "age                    20.519016       2.311789   -0.002517  Recuperação\n",
       "study_hours_per_day     2.737360       1.035541   -0.137888  Recuperação\n",
       "social_media_hours      2.644743       1.172733    0.074956  Recuperação\n",
       "netflix_hours           1.964206       1.073997    0.104877  Recuperação\n",
       "attendance_percentage  83.164206       9.442380   -0.205007  Recuperação"
      ]
     },
     "metadata": {},
     "output_type": "display_data"
    },
    {
     "name": "stdout",
     "output_type": "stream",
     "text": [
      "Tabelas e gráficos condicionais salvos em 'resultados/'\n"
     ]
    }
   ],
   "source": [
    "# nome da coluna de classe\n",
    "classe_col = \"Performance\"\n",
    "\n",
    "# executar análise condicional\n",
    "sumario_condicional = analise_univariada_condicional(df, classe_col=classe_col)\n",
    "\n",
    "# visualizar resultados\n",
    "display(sumario_condicional.head())\n",
    "\n",
    "# salvar tabela\n",
    "sumario_condicional.to_csv(\"resultados/tables/sumario_condicional.csv\")\n",
    "print(\"Tabelas e gráficos condicionais salvos em 'resultados/'\")"
   ]
  },
  {
   "cell_type": "markdown",
   "id": "46ef7471",
   "metadata": {},
   "source": [
    "# Interpretação e comentários\n",
    "\"\"\"\n",
    "\n",
    "\"\"\""
   ]
  },
  {
   "cell_type": "markdown",
   "id": "54391cb6",
   "metadata": {},
   "source": [
    "# Resumo final automatizado"
   ]
  },
  {
   "cell_type": "code",
   "execution_count": 53,
   "id": "9a106b64",
   "metadata": {},
   "outputs": [
    {
     "name": "stdout",
     "output_type": "stream",
     "text": [
      "Análise univariada completa!\n",
      "Resultados disponíveis em:\n",
      "- resultados/tables/sumario_univariado.csv\n",
      "- resultados/tables/sumario_condicional.csv\n",
      "- resultados/figuras/ (histogramas, boxplots e barras)\n"
     ]
    }
   ],
   "source": [
    "\n",
    "print(\"Análise univariada completa!\")\n",
    "print(\"Resultados disponíveis em:\")\n",
    "print(\"- resultados/tables/sumario_univariado.csv\")\n",
    "print(\"- resultados/tables/sumario_condicional.csv\")\n",
    "print(\"- resultados/figuras/ (histogramas, boxplots e barras)\")"
   ]
  }
 ],
 "metadata": {
  "kernelspec": {
   "display_name": ".venv",
   "language": "python",
   "name": "python3"
  },
  "language_info": {
   "codemirror_mode": {
    "name": "ipython",
    "version": 3
   },
   "file_extension": ".py",
   "mimetype": "text/x-python",
   "name": "python",
   "nbconvert_exporter": "python",
   "pygments_lexer": "ipython3",
   "version": "3.12.3"
  }
 },
 "nbformat": 4,
 "nbformat_minor": 5
}
